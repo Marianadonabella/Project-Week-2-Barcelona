{
 "cells": [
  {
   "cell_type": "code",
   "execution_count": 1,
   "metadata": {},
   "outputs": [],
   "source": [
    "import numpy as np\n",
    "import pandas as pd"
   ]
  },
  {
   "cell_type": "code",
   "execution_count": 2,
   "metadata": {},
   "outputs": [],
   "source": [
    "accidents = pd.read_csv('datasets/1.-Transportation/accidents-2017.csv')"
   ]
  },
  {
   "cell_type": "code",
   "execution_count": 4,
   "metadata": {},
   "outputs": [],
   "source": [
    "population = pd.read_csv('datasets/3.-Population/population.csv')"
   ]
  },
  {
   "cell_type": "code",
   "execution_count": 5,
   "metadata": {},
   "outputs": [],
   "source": [
    "bus = pd.read_csv('datasets/1.-Transportation/bus-stops.csv')"
   ]
  },
  {
   "cell_type": "code",
   "execution_count": 6,
   "metadata": {},
   "outputs": [],
   "source": [
    "transp = pd.read_csv('datasets/1.-Transportation/public-transport.csv')"
   ]
  },
  {
   "cell_type": "code",
   "execution_count": 7,
   "metadata": {},
   "outputs": [
    {
     "name": "stdout",
     "output_type": "stream",
     "text": [
      "<class 'pandas.core.frame.DataFrame'>\n",
      "RangeIndex: 10339 entries, 0 to 10338\n",
      "Data columns (total 15 columns):\n",
      "Id                   10339 non-null object\n",
      "District Name        10339 non-null object\n",
      "Neighborhood Name    10339 non-null object\n",
      "Street               10339 non-null object\n",
      "Weekday              10339 non-null object\n",
      "Month                10339 non-null object\n",
      "Day                  10339 non-null int64\n",
      "Hour                 10339 non-null int64\n",
      "Part of the day      10339 non-null object\n",
      "Mild injuries        10339 non-null int64\n",
      "Serious injuries     10339 non-null int64\n",
      "Victims              10339 non-null int64\n",
      "Vehicles involved    10339 non-null int64\n",
      "Longitude            10339 non-null float64\n",
      "Latitude             10339 non-null float64\n",
      "dtypes: float64(2), int64(6), object(7)\n",
      "memory usage: 1.2+ MB\n"
     ]
    }
   ],
   "source": [
    "accidents.info()"
   ]
  },
  {
   "cell_type": "code",
   "execution_count": 8,
   "metadata": {},
   "outputs": [
    {
     "name": "stdout",
     "output_type": "stream",
     "text": [
      "<class 'pandas.core.frame.DataFrame'>\n",
      "RangeIndex: 3162 entries, 0 to 3161\n",
      "Data columns (total 7 columns):\n",
      "Code                 3162 non-null object\n",
      "Transport            3162 non-null object\n",
      "Longitude            3162 non-null float64\n",
      "Latitude             3162 non-null float64\n",
      "Bus.Stop             3162 non-null object\n",
      "District.Name        3146 non-null object\n",
      "Neighborhood.Name    3146 non-null object\n",
      "dtypes: float64(2), object(5)\n",
      "memory usage: 173.0+ KB\n"
     ]
    }
   ],
   "source": [
    "bus.info()"
   ]
  },
  {
   "cell_type": "code",
   "execution_count": 9,
   "metadata": {},
   "outputs": [
    {
     "name": "stdout",
     "output_type": "stream",
     "text": [
      "<class 'pandas.core.frame.DataFrame'>\n",
      "RangeIndex: 651 entries, 0 to 650\n",
      "Data columns (total 7 columns):\n",
      "Code                 651 non-null object\n",
      "Transport            651 non-null object\n",
      "Longitude            651 non-null float64\n",
      "Latitude             651 non-null float64\n",
      "Station              651 non-null object\n",
      "District.Name        487 non-null object\n",
      "Neighborhood.Name    487 non-null object\n",
      "dtypes: float64(2), object(5)\n",
      "memory usage: 35.7+ KB\n"
     ]
    }
   ],
   "source": [
    "transp.info()"
   ]
  },
  {
   "cell_type": "code",
   "execution_count": 8,
   "metadata": {},
   "outputs": [
    {
     "name": "stdout",
     "output_type": "stream",
     "text": [
      "<class 'pandas.core.frame.DataFrame'>\n",
      "RangeIndex: 70080 entries, 0 to 70079\n",
      "Data columns (total 8 columns):\n",
      "Year                 70080 non-null int64\n",
      "District.Code        70080 non-null int64\n",
      "District.Name        70080 non-null object\n",
      "Neighborhood.Code    70080 non-null int64\n",
      "Neighborhood.Name    70080 non-null object\n",
      "Gender               70080 non-null object\n",
      "Age                  70080 non-null object\n",
      "Number               70080 non-null int64\n",
      "dtypes: int64(4), object(4)\n",
      "memory usage: 4.3+ MB\n"
     ]
    }
   ],
   "source": [
    "population.info()"
   ]
  },
  {
   "cell_type": "code",
   "execution_count": 11,
   "metadata": {},
   "outputs": [
    {
     "data": {
      "text/plain": [
       "Index(['Id', 'District Name', 'Neighborhood Name', 'Street', 'Weekday',\n",
       "       'Month', 'Day', 'Hour', 'Part of the day', 'Mild injuries',\n",
       "       'Serious injuries', 'Victims', 'Vehicles involved', 'Longitude',\n",
       "       'Latitude'],\n",
       "      dtype='object')"
      ]
     },
     "execution_count": 11,
     "metadata": {},
     "output_type": "execute_result"
    }
   ],
   "source": [
    "accidents.columns"
   ]
  },
  {
   "cell_type": "code",
   "execution_count": 9,
   "metadata": {},
   "outputs": [
    {
     "data": {
      "text/html": [
       "<div>\n",
       "<style scoped>\n",
       "    .dataframe tbody tr th:only-of-type {\n",
       "        vertical-align: middle;\n",
       "    }\n",
       "\n",
       "    .dataframe tbody tr th {\n",
       "        vertical-align: top;\n",
       "    }\n",
       "\n",
       "    .dataframe thead th {\n",
       "        text-align: right;\n",
       "    }\n",
       "</style>\n",
       "<table border=\"1\" class=\"dataframe\">\n",
       "  <thead>\n",
       "    <tr style=\"text-align: right;\">\n",
       "      <th></th>\n",
       "      <th>Id</th>\n",
       "      <th>District Name</th>\n",
       "      <th>Neighborhood Name</th>\n",
       "      <th>Street</th>\n",
       "      <th>Weekday</th>\n",
       "      <th>Month</th>\n",
       "      <th>Day</th>\n",
       "      <th>Hour</th>\n",
       "      <th>Part of the day</th>\n",
       "      <th>Mild injuries</th>\n",
       "      <th>Serious injuries</th>\n",
       "      <th>Victims</th>\n",
       "      <th>Vehicles involved</th>\n",
       "      <th>Longitude</th>\n",
       "      <th>Latitude</th>\n",
       "    </tr>\n",
       "  </thead>\n",
       "  <tbody>\n",
       "    <tr>\n",
       "      <td>0</td>\n",
       "      <td>2017S008429</td>\n",
       "      <td>Unknown</td>\n",
       "      <td>Unknown</td>\n",
       "      <td>Número 27                                     ...</td>\n",
       "      <td>Friday</td>\n",
       "      <td>October</td>\n",
       "      <td>13</td>\n",
       "      <td>8</td>\n",
       "      <td>Morning</td>\n",
       "      <td>2</td>\n",
       "      <td>0</td>\n",
       "      <td>2</td>\n",
       "      <td>2</td>\n",
       "      <td>2.125624</td>\n",
       "      <td>41.340045</td>\n",
       "    </tr>\n",
       "    <tr>\n",
       "      <td>1</td>\n",
       "      <td>2017S007316</td>\n",
       "      <td>Unknown</td>\n",
       "      <td>Unknown</td>\n",
       "      <td>Número 3 Zona Franca / Número 50 Zona Franca  ...</td>\n",
       "      <td>Friday</td>\n",
       "      <td>September</td>\n",
       "      <td>1</td>\n",
       "      <td>13</td>\n",
       "      <td>Morning</td>\n",
       "      <td>2</td>\n",
       "      <td>0</td>\n",
       "      <td>2</td>\n",
       "      <td>2</td>\n",
       "      <td>2.120452</td>\n",
       "      <td>41.339426</td>\n",
       "    </tr>\n",
       "    <tr>\n",
       "      <td>2</td>\n",
       "      <td>2017S010210</td>\n",
       "      <td>Unknown</td>\n",
       "      <td>Unknown</td>\n",
       "      <td>Litoral (Besòs)                               ...</td>\n",
       "      <td>Friday</td>\n",
       "      <td>December</td>\n",
       "      <td>8</td>\n",
       "      <td>21</td>\n",
       "      <td>Afternoon</td>\n",
       "      <td>5</td>\n",
       "      <td>0</td>\n",
       "      <td>5</td>\n",
       "      <td>2</td>\n",
       "      <td>2.167356</td>\n",
       "      <td>41.360885</td>\n",
       "    </tr>\n",
       "    <tr>\n",
       "      <td>3</td>\n",
       "      <td>2017S006364</td>\n",
       "      <td>Unknown</td>\n",
       "      <td>Unknown</td>\n",
       "      <td>Número 3 Zona Franca                          ...</td>\n",
       "      <td>Friday</td>\n",
       "      <td>July</td>\n",
       "      <td>21</td>\n",
       "      <td>2</td>\n",
       "      <td>Night</td>\n",
       "      <td>1</td>\n",
       "      <td>0</td>\n",
       "      <td>1</td>\n",
       "      <td>2</td>\n",
       "      <td>2.124529</td>\n",
       "      <td>41.337668</td>\n",
       "    </tr>\n",
       "    <tr>\n",
       "      <td>4</td>\n",
       "      <td>2017S004615</td>\n",
       "      <td>Sant Martí</td>\n",
       "      <td>el Camp de l'Arpa del Clot</td>\n",
       "      <td>Las Navas de Tolosa                           ...</td>\n",
       "      <td>Thursday</td>\n",
       "      <td>May</td>\n",
       "      <td>25</td>\n",
       "      <td>14</td>\n",
       "      <td>Afternoon</td>\n",
       "      <td>1</td>\n",
       "      <td>0</td>\n",
       "      <td>1</td>\n",
       "      <td>3</td>\n",
       "      <td>2.185272</td>\n",
       "      <td>41.416365</td>\n",
       "    </tr>\n",
       "    <tr>\n",
       "      <td>5</td>\n",
       "      <td>2017S007775</td>\n",
       "      <td>Sant Martí</td>\n",
       "      <td>el Camp de l'Arpa del Clot</td>\n",
       "      <td>Indústria / Trinxant                          ...</td>\n",
       "      <td>Wednesday</td>\n",
       "      <td>September</td>\n",
       "      <td>20</td>\n",
       "      <td>12</td>\n",
       "      <td>Morning</td>\n",
       "      <td>1</td>\n",
       "      <td>0</td>\n",
       "      <td>1</td>\n",
       "      <td>2</td>\n",
       "      <td>2.183245</td>\n",
       "      <td>41.416336</td>\n",
       "    </tr>\n",
       "    <tr>\n",
       "      <td>6</td>\n",
       "      <td>2017S004484</td>\n",
       "      <td>Sant Martí</td>\n",
       "      <td>el Camp de l'Arpa del Clot</td>\n",
       "      <td>Trinxant / Indústria                          ...</td>\n",
       "      <td>Saturday</td>\n",
       "      <td>May</td>\n",
       "      <td>20</td>\n",
       "      <td>21</td>\n",
       "      <td>Afternoon</td>\n",
       "      <td>1</td>\n",
       "      <td>0</td>\n",
       "      <td>1</td>\n",
       "      <td>2</td>\n",
       "      <td>2.183245</td>\n",
       "      <td>41.416336</td>\n",
       "    </tr>\n",
       "    <tr>\n",
       "      <td>7</td>\n",
       "      <td>2017S010680</td>\n",
       "      <td>Sant Martí</td>\n",
       "      <td>el Camp de l'Arpa del Clot</td>\n",
       "      <td>Indústria                                     ...</td>\n",
       "      <td>Tuesday</td>\n",
       "      <td>December</td>\n",
       "      <td>26</td>\n",
       "      <td>20</td>\n",
       "      <td>Afternoon</td>\n",
       "      <td>2</td>\n",
       "      <td>0</td>\n",
       "      <td>2</td>\n",
       "      <td>1</td>\n",
       "      <td>2.183561</td>\n",
       "      <td>41.416372</td>\n",
       "    </tr>\n",
       "    <tr>\n",
       "      <td>8</td>\n",
       "      <td>2017S005152</td>\n",
       "      <td>Sant Martí</td>\n",
       "      <td>el Camp de l'Arpa del Clot</td>\n",
       "      <td>Indústria                                     ...</td>\n",
       "      <td>Monday</td>\n",
       "      <td>June</td>\n",
       "      <td>12</td>\n",
       "      <td>15</td>\n",
       "      <td>Afternoon</td>\n",
       "      <td>1</td>\n",
       "      <td>0</td>\n",
       "      <td>1</td>\n",
       "      <td>1</td>\n",
       "      <td>2.184059</td>\n",
       "      <td>41.416763</td>\n",
       "    </tr>\n",
       "    <tr>\n",
       "      <td>9</td>\n",
       "      <td>2017S003932</td>\n",
       "      <td>Sant Martí</td>\n",
       "      <td>el Camp de l'Arpa del Clot</td>\n",
       "      <td>Maragall                                      ...</td>\n",
       "      <td>Wednesday</td>\n",
       "      <td>May</td>\n",
       "      <td>3</td>\n",
       "      <td>20</td>\n",
       "      <td>Afternoon</td>\n",
       "      <td>1</td>\n",
       "      <td>0</td>\n",
       "      <td>1</td>\n",
       "      <td>1</td>\n",
       "      <td>2.181225</td>\n",
       "      <td>41.413958</td>\n",
       "    </tr>\n",
       "  </tbody>\n",
       "</table>\n",
       "</div>"
      ],
      "text/plain": [
       "                Id District Name           Neighborhood Name  \\\n",
       "0  2017S008429           Unknown                     Unknown   \n",
       "1  2017S007316           Unknown                     Unknown   \n",
       "2  2017S010210           Unknown                     Unknown   \n",
       "3  2017S006364           Unknown                     Unknown   \n",
       "4  2017S004615        Sant Martí  el Camp de l'Arpa del Clot   \n",
       "5  2017S007775        Sant Martí  el Camp de l'Arpa del Clot   \n",
       "6  2017S004484        Sant Martí  el Camp de l'Arpa del Clot   \n",
       "7  2017S010680        Sant Martí  el Camp de l'Arpa del Clot   \n",
       "8  2017S005152        Sant Martí  el Camp de l'Arpa del Clot   \n",
       "9  2017S003932        Sant Martí  el Camp de l'Arpa del Clot   \n",
       "\n",
       "                                              Street    Weekday      Month  \\\n",
       "0  Número 27                                     ...     Friday    October   \n",
       "1  Número 3 Zona Franca / Número 50 Zona Franca  ...     Friday  September   \n",
       "2  Litoral (Besòs)                               ...     Friday   December   \n",
       "3  Número 3 Zona Franca                          ...     Friday       July   \n",
       "4  Las Navas de Tolosa                           ...   Thursday        May   \n",
       "5  Indústria / Trinxant                          ...  Wednesday  September   \n",
       "6  Trinxant / Indústria                          ...   Saturday        May   \n",
       "7  Indústria                                     ...    Tuesday   December   \n",
       "8  Indústria                                     ...     Monday       June   \n",
       "9  Maragall                                      ...  Wednesday        May   \n",
       "\n",
       "   Day  Hour Part of the day  Mild injuries  Serious injuries  Victims  \\\n",
       "0   13     8         Morning              2                 0        2   \n",
       "1    1    13         Morning              2                 0        2   \n",
       "2    8    21       Afternoon              5                 0        5   \n",
       "3   21     2           Night              1                 0        1   \n",
       "4   25    14       Afternoon              1                 0        1   \n",
       "5   20    12         Morning              1                 0        1   \n",
       "6   20    21       Afternoon              1                 0        1   \n",
       "7   26    20       Afternoon              2                 0        2   \n",
       "8   12    15       Afternoon              1                 0        1   \n",
       "9    3    20       Afternoon              1                 0        1   \n",
       "\n",
       "   Vehicles involved  Longitude   Latitude  \n",
       "0                  2   2.125624  41.340045  \n",
       "1                  2   2.120452  41.339426  \n",
       "2                  2   2.167356  41.360885  \n",
       "3                  2   2.124529  41.337668  \n",
       "4                  3   2.185272  41.416365  \n",
       "5                  2   2.183245  41.416336  \n",
       "6                  2   2.183245  41.416336  \n",
       "7                  1   2.183561  41.416372  \n",
       "8                  1   2.184059  41.416763  \n",
       "9                  1   2.181225  41.413958  "
      ]
     },
     "execution_count": 9,
     "metadata": {},
     "output_type": "execute_result"
    }
   ],
   "source": [
    "accidents.head(10)"
   ]
  },
  {
   "cell_type": "code",
   "execution_count": 7,
   "metadata": {},
   "outputs": [
    {
     "data": {
      "text/plain": [
       "<bound method Series.sum of 1     7385\n",
       "2     1611\n",
       "0      902\n",
       "3      284\n",
       "4      102\n",
       "5       32\n",
       "6       11\n",
       "7        8\n",
       "10       2\n",
       "9        1\n",
       "8        1\n",
       "Name: Victims, dtype: int64>"
      ]
     },
     "execution_count": 7,
     "metadata": {},
     "output_type": "execute_result"
    }
   ],
   "source": [
    "accidents[\"Victims\"].value_counts().sum"
   ]
  },
  {
   "cell_type": "code",
   "execution_count": 12,
   "metadata": {},
   "outputs": [
    {
     "data": {
      "text/plain": [
       "0    10116\n",
       "1      207\n",
       "2       15\n",
       "4        1\n",
       "Name: Serious injuries, dtype: int64"
      ]
     },
     "execution_count": 12,
     "metadata": {},
     "output_type": "execute_result"
    }
   ],
   "source": [
    "accidents[\"Serious injuries\"].value_counts()"
   ]
  },
  {
   "cell_type": "code",
   "execution_count": 13,
   "metadata": {},
   "outputs": [
    {
     "data": {
      "text/plain": [
       "1     7253\n",
       "2     1579\n",
       "0     1082\n",
       "3      273\n",
       "4       99\n",
       "5       31\n",
       "6       11\n",
       "7        7\n",
       "10       2\n",
       "9        1\n",
       "8        1\n",
       "Name: Mild injuries, dtype: int64"
      ]
     },
     "execution_count": 13,
     "metadata": {},
     "output_type": "execute_result"
    }
   ],
   "source": [
    "accidents[\"Mild injuries\"].value_counts()"
   ]
  },
  {
   "cell_type": "code",
   "execution_count": 35,
   "metadata": {},
   "outputs": [
    {
     "data": {
      "text/plain": [
       "10339"
      ]
     },
     "execution_count": 35,
     "metadata": {},
     "output_type": "execute_result"
    }
   ],
   "source": [
    "accidents[\"Month\"].value_counts().sum()"
   ]
  },
  {
   "cell_type": "code",
   "execution_count": 15,
   "metadata": {},
   "outputs": [
    {
     "data": {
      "text/plain": [
       "la Dreta de l'Eixample             1167\n",
       "l'Antiga Esquerra de l'Eixample     588\n",
       "la Nova Esquerra de l'Eixample      387\n",
       "Sant Gervasi - Galvany              385\n",
       "la Sagrada Família                  377\n",
       "                                   ... \n",
       "Can Baró                             15\n",
       "Ciutat Meridiana                     11\n",
       "Vallbona                              8\n",
       "Can Peguera                           8\n",
       "Torre Baró                            7\n",
       "Name: Neighborhood Name, Length: 74, dtype: int64"
      ]
     },
     "execution_count": 15,
     "metadata": {},
     "output_type": "execute_result"
    }
   ],
   "source": [
    "accidents[\"Neighborhood Name\"].value_counts()"
   ]
  },
  {
   "cell_type": "code",
   "execution_count": 16,
   "metadata": {},
   "outputs": [
    {
     "data": {
      "text/plain": [
       "Friday       1761\n",
       "Tuesday      1691\n",
       "Thursday     1677\n",
       "Wednesday    1650\n",
       "Monday       1510\n",
       "Saturday     1155\n",
       "Sunday        895\n",
       "Name: Weekday, dtype: int64"
      ]
     },
     "execution_count": 16,
     "metadata": {},
     "output_type": "execute_result"
    }
   ],
   "source": [
    "accidents[\"Weekday\"].value_counts()"
   ]
  },
  {
   "cell_type": "code",
   "execution_count": 17,
   "metadata": {},
   "outputs": [
    {
     "data": {
      "text/plain": [
       "Afternoon    5082\n",
       "Morning      4067\n",
       "Night        1190\n",
       "Name: Part of the day, dtype: int64"
      ]
     },
     "execution_count": 17,
     "metadata": {},
     "output_type": "execute_result"
    }
   ],
   "source": [
    "accidents[\"Part of the day\"].value_counts()"
   ]
  },
  {
   "cell_type": "code",
   "execution_count": 26,
   "metadata": {},
   "outputs": [
    {
     "data": {
      "text/plain": [
       "884"
      ]
     },
     "execution_count": 26,
     "metadata": {},
     "output_type": "execute_result"
    }
   ],
   "source": [
    "accidents.groupby(\"Weekday\")[\"Part of the day\"].value_counts().max()"
   ]
  },
  {
   "cell_type": "code",
   "execution_count": 27,
   "metadata": {},
   "outputs": [
    {
     "data": {
      "text/plain": [
       "November     991\n",
       "May          963\n",
       "March        935\n",
       "October      928\n",
       "July         918\n",
       "June         908\n",
       "April        845\n",
       "January      844\n",
       "February     824\n",
       "September    769\n",
       "December     762\n",
       "August       652\n",
       "Name: Month, dtype: int64"
      ]
     },
     "execution_count": 27,
     "metadata": {},
     "output_type": "execute_result"
    }
   ],
   "source": [
    "accidents[\"Month\"].value_counts()"
   ]
  },
  {
   "cell_type": "code",
   "execution_count": 37,
   "metadata": {},
   "outputs": [
    {
     "data": {
      "text/plain": [
       "Serious injuries    November\n",
       "dtype: object"
      ]
     },
     "execution_count": 37,
     "metadata": {},
     "output_type": "execute_result"
    }
   ],
   "source": [
    "accidents.groupby(\"Month\")[[\"Serious injuries\"]].sum().idxmax()"
   ]
  },
  {
   "cell_type": "code",
   "execution_count": 58,
   "metadata": {
    "scrolled": true
   },
   "outputs": [
    {
     "data": {
      "text/plain": [
       "Month      Day\n",
       "April      1      23\n",
       "           2      36\n",
       "           3      34\n",
       "           4      36\n",
       "           5      46\n",
       "                  ..\n",
       "September  26     32\n",
       "           27     24\n",
       "           28     30\n",
       "           29     42\n",
       "           30     22\n",
       "Name: Id, Length: 365, dtype: int64"
      ]
     },
     "execution_count": 58,
     "metadata": {},
     "output_type": "execute_result"
    }
   ],
   "source": [
    "accidents.groupby([\"Month\", \"Day\"])[\"Id\"].count()"
   ]
  },
  {
   "cell_type": "code",
   "execution_count": 66,
   "metadata": {},
   "outputs": [],
   "source": [
    "accidents_day = accidents.groupby([\"Month\", \"Day\"])[\"Id\"].count()"
   ]
  },
  {
   "cell_type": "code",
   "execution_count": 69,
   "metadata": {},
   "outputs": [
    {
     "data": {
      "text/plain": [
       "28.326027397260273"
      ]
     },
     "execution_count": 69,
     "metadata": {},
     "output_type": "execute_result"
    }
   ],
   "source": [
    "accidents_day.mean()"
   ]
  },
  {
   "cell_type": "code",
   "execution_count": 75,
   "metadata": {},
   "outputs": [
    {
     "data": {
      "text/plain": [
       "Day\n",
       "1     26\n",
       "2     25\n",
       "3      7\n",
       "4     27\n",
       "5     27\n",
       "6     16\n",
       "7     28\n",
       "8     26\n",
       "9     19\n",
       "10    13\n",
       "11    11\n",
       "12    33\n",
       "13    29\n",
       "14    24\n",
       "15    34\n",
       "16    28\n",
       "17    16\n",
       "18    31\n",
       "19    37\n",
       "20    36\n",
       "21    31\n",
       "22    37\n",
       "23    22\n",
       "24    23\n",
       "25    13\n",
       "26    32\n",
       "27    24\n",
       "28    30\n",
       "29    42\n",
       "30    22\n",
       "Name: Id, dtype: int64"
      ]
     },
     "execution_count": 75,
     "metadata": {},
     "output_type": "execute_result"
    }
   ],
   "source": [
    "accidents_day[\"September\"]"
   ]
  },
  {
   "cell_type": "code",
   "execution_count": 77,
   "metadata": {},
   "outputs": [
    {
     "data": {
      "text/html": [
       "<div>\n",
       "<style scoped>\n",
       "    .dataframe tbody tr th:only-of-type {\n",
       "        vertical-align: middle;\n",
       "    }\n",
       "\n",
       "    .dataframe tbody tr th {\n",
       "        vertical-align: top;\n",
       "    }\n",
       "\n",
       "    .dataframe thead th {\n",
       "        text-align: right;\n",
       "    }\n",
       "</style>\n",
       "<table border=\"1\" class=\"dataframe\">\n",
       "  <thead>\n",
       "    <tr style=\"text-align: right;\">\n",
       "      <th></th>\n",
       "      <th>Code</th>\n",
       "      <th>Transport</th>\n",
       "      <th>Longitude</th>\n",
       "      <th>Latitude</th>\n",
       "      <th>Station</th>\n",
       "      <th>District.Name</th>\n",
       "      <th>Neighborhood.Name</th>\n",
       "    </tr>\n",
       "  </thead>\n",
       "  <tbody>\n",
       "    <tr>\n",
       "      <td>0</td>\n",
       "      <td>K001</td>\n",
       "      <td>Underground</td>\n",
       "      <td>2.119370</td>\n",
       "      <td>41.399203</td>\n",
       "      <td>FGC (L6) - REINA ELISENDA (Sortida Duquesa d'O...</td>\n",
       "      <td>Sarrià-Sant Gervasi</td>\n",
       "      <td>Sarrià</td>\n",
       "    </tr>\n",
       "    <tr>\n",
       "      <td>1</td>\n",
       "      <td>K001</td>\n",
       "      <td>Underground</td>\n",
       "      <td>2.135427</td>\n",
       "      <td>41.397791</td>\n",
       "      <td>FGC (L6) - LA BONANOVA-</td>\n",
       "      <td>Sarrià-Sant Gervasi</td>\n",
       "      <td>Sant Gervasi - Galvany</td>\n",
       "    </tr>\n",
       "    <tr>\n",
       "      <td>2</td>\n",
       "      <td>K001</td>\n",
       "      <td>Underground</td>\n",
       "      <td>2.185391</td>\n",
       "      <td>41.451492</td>\n",
       "      <td>METRO (L11) - CASA DE L'AIGUA (C. Vila-Real)-</td>\n",
       "      <td>Nou Barris</td>\n",
       "      <td>la Trinitat Nova</td>\n",
       "    </tr>\n",
       "    <tr>\n",
       "      <td>3</td>\n",
       "      <td>K001</td>\n",
       "      <td>Underground</td>\n",
       "      <td>2.174473</td>\n",
       "      <td>41.460889</td>\n",
       "      <td>METRO (L11) - CIUTAT MERIDIANA (C. Pedraforca)-</td>\n",
       "      <td>Nou Barris</td>\n",
       "      <td>Ciutat Meridiana</td>\n",
       "    </tr>\n",
       "    <tr>\n",
       "      <td>4</td>\n",
       "      <td>K001</td>\n",
       "      <td>Underground</td>\n",
       "      <td>2.168588</td>\n",
       "      <td>41.387200</td>\n",
       "      <td>METRO (L1) - CATALUNYA (Rda. Universitat)-</td>\n",
       "      <td>Eixample</td>\n",
       "      <td>la Dreta de l'Eixample</td>\n",
       "    </tr>\n",
       "  </tbody>\n",
       "</table>\n",
       "</div>"
      ],
      "text/plain": [
       "   Code    Transport  Longitude   Latitude  \\\n",
       "0  K001  Underground   2.119370  41.399203   \n",
       "1  K001  Underground   2.135427  41.397791   \n",
       "2  K001  Underground   2.185391  41.451492   \n",
       "3  K001  Underground   2.174473  41.460889   \n",
       "4  K001  Underground   2.168588  41.387200   \n",
       "\n",
       "                                             Station        District.Name  \\\n",
       "0  FGC (L6) - REINA ELISENDA (Sortida Duquesa d'O...  Sarrià-Sant Gervasi   \n",
       "1                            FGC (L6) - LA BONANOVA-  Sarrià-Sant Gervasi   \n",
       "2      METRO (L11) - CASA DE L'AIGUA (C. Vila-Real)-           Nou Barris   \n",
       "3    METRO (L11) - CIUTAT MERIDIANA (C. Pedraforca)-           Nou Barris   \n",
       "4         METRO (L1) - CATALUNYA (Rda. Universitat)-             Eixample   \n",
       "\n",
       "        Neighborhood.Name  \n",
       "0                  Sarrià  \n",
       "1  Sant Gervasi - Galvany  \n",
       "2        la Trinitat Nova  \n",
       "3        Ciutat Meridiana  \n",
       "4  la Dreta de l'Eixample  "
      ]
     },
     "execution_count": 77,
     "metadata": {},
     "output_type": "execute_result"
    }
   ],
   "source": [
    "transp.head()"
   ]
  },
  {
   "cell_type": "code",
   "execution_count": 78,
   "metadata": {},
   "outputs": [
    {
     "data": {
      "text/plain": [
       "la Dreta de l'Eixample      61\n",
       "Sants                       21\n",
       "Sant Gervasi - Galvany      20\n",
       "Sant Antoni                 19\n",
       "Sant Andreu                 18\n",
       "                            ..\n",
       "la Teixonera                 2\n",
       "Sant Genís dels Agudells     1\n",
       "el Coll                      1\n",
       "Porta                        1\n",
       "Ciutat Meridiana             1\n",
       "Name: Neighborhood.Name, Length: 63, dtype: int64"
      ]
     },
     "execution_count": 78,
     "metadata": {},
     "output_type": "execute_result"
    }
   ],
   "source": [
    "transp[\"Neighborhood.Name\"].value_counts()"
   ]
  },
  {
   "cell_type": "code",
   "execution_count": 83,
   "metadata": {},
   "outputs": [],
   "source": [
    "transp_type = transp.groupby(\"Transport\")[\"Neighborhood.Name\"].value_counts()"
   ]
  },
  {
   "cell_type": "code",
   "execution_count": 86,
   "metadata": {},
   "outputs": [
    {
     "data": {
      "text/plain": [
       "Transport      Neighborhood.Name         \n",
       "Airport train  el Clot                       3\n",
       "               Sant Andreu                   1\n",
       "               Sants                         1\n",
       "               la Dreta de l'Eixample        1\n",
       "Cableway       el Poble-sec                  3\n",
       "                                            ..\n",
       "Underground    Sant Genís dels Agudells      1\n",
       "               Sant Gervasi - la Bonanova    1\n",
       "               el Coll                       1\n",
       "               la Barceloneta                1\n",
       "               la Bordeta                    1\n",
       "Name: Neighborhood.Name, Length: 101, dtype: int64"
      ]
     },
     "execution_count": 86,
     "metadata": {},
     "output_type": "execute_result"
    }
   ],
   "source": [
    "transp_type"
   ]
  },
  {
   "cell_type": "code",
   "execution_count": 92,
   "metadata": {},
   "outputs": [
    {
     "data": {
      "text/plain": [
       "array(['Underground', 'Railway (FGC)', 'Tram', 'Maritime station',\n",
       "       'RENFE', 'Airport train', 'Cableway', 'Funicular'], dtype=object)"
      ]
     },
     "execution_count": 92,
     "metadata": {},
     "output_type": "execute_result"
    }
   ],
   "source": [
    "transp[\"Transport\"].unique()"
   ]
  },
  {
   "cell_type": "code",
   "execution_count": 94,
   "metadata": {},
   "outputs": [
    {
     "data": {
      "text/plain": [
       "Neighborhood.Name\n",
       "Sant Gervasi - Galvany                   10\n",
       "Sarrià                                    5\n",
       "el Putxet i el Farró                      5\n",
       "la Dreta de l'Eixample                    5\n",
       "les Tres Torres                           5\n",
       "Vallvidrera, el Tibidabo i les Planes     2\n",
       "l'Antiga Esquerra de l'Eixample           2\n",
       "la Vila de Gràcia                         2\n",
       "Sant Gervasi - la Bonanova                1\n",
       "el Poble-sec                              1\n",
       "la Bordeta                                1\n",
       "Name: Neighborhood.Name, dtype: int64"
      ]
     },
     "execution_count": 94,
     "metadata": {},
     "output_type": "execute_result"
    }
   ],
   "source": [
    "transp_type.loc[\"Railway (FGC)\"]"
   ]
  },
  {
   "cell_type": "code",
   "execution_count": 5,
   "metadata": {},
   "outputs": [],
   "source": [
    "## merge both tables using neighborhood name to do so.\n",
    "combined_df = accidents.merge(right=population, \n",
    "             how=\"left\", \n",
    "             left_on=\"Neighborhood Name\",\n",
    "             right_on=\"Neighborhood.Name\")"
   ]
  },
  {
   "cell_type": "code",
   "execution_count": 6,
   "metadata": {},
   "outputs": [
    {
     "data": {
      "text/plain": [
       "Index(['Id', 'District Name', 'Neighborhood Name', 'Street', 'Weekday',\n",
       "       'Month', 'Day', 'Hour', 'Part of the day', 'Mild injuries',\n",
       "       'Serious injuries', 'Victims', 'Vehicles involved', 'Longitude',\n",
       "       'Latitude', 'Year', 'District.Code', 'District.Name',\n",
       "       'Neighborhood.Code', 'Neighborhood.Name', 'Gender', 'Age', 'Number'],\n",
       "      dtype='object')"
      ]
     },
     "execution_count": 6,
     "metadata": {},
     "output_type": "execute_result"
    }
   ],
   "source": [
    "combined_df.columns"
   ]
  },
  {
   "cell_type": "code",
   "execution_count": 18,
   "metadata": {},
   "outputs": [
    {
     "data": {
      "text/html": [
       "<div>\n",
       "<style scoped>\n",
       "    .dataframe tbody tr th:only-of-type {\n",
       "        vertical-align: middle;\n",
       "    }\n",
       "\n",
       "    .dataframe tbody tr th {\n",
       "        vertical-align: top;\n",
       "    }\n",
       "\n",
       "    .dataframe thead th {\n",
       "        text-align: right;\n",
       "    }\n",
       "</style>\n",
       "<table border=\"1\" class=\"dataframe\">\n",
       "  <thead>\n",
       "    <tr style=\"text-align: right;\">\n",
       "      <th></th>\n",
       "      <th>Number</th>\n",
       "    </tr>\n",
       "    <tr>\n",
       "      <th>Neighborhood.Name</th>\n",
       "      <th></th>\n",
       "    </tr>\n",
       "  </thead>\n",
       "  <tbody>\n",
       "    <tr>\n",
       "      <td>la Clota</td>\n",
       "      <td>2694</td>\n",
       "    </tr>\n",
       "    <tr>\n",
       "      <td>la Marina del Prat Vermell</td>\n",
       "      <td>5733</td>\n",
       "    </tr>\n",
       "    <tr>\n",
       "      <td>Vallbona</td>\n",
       "      <td>6715</td>\n",
       "    </tr>\n",
       "    <tr>\n",
       "      <td>Can Peguera</td>\n",
       "      <td>11296</td>\n",
       "    </tr>\n",
       "    <tr>\n",
       "      <td>Baró de Viver</td>\n",
       "      <td>12424</td>\n",
       "    </tr>\n",
       "    <tr>\n",
       "      <td>...</td>\n",
       "      <td>...</td>\n",
       "    </tr>\n",
       "    <tr>\n",
       "      <td>el Raval</td>\n",
       "      <td>238168</td>\n",
       "    </tr>\n",
       "    <tr>\n",
       "      <td>la Vila de Gràcia</td>\n",
       "      <td>252724</td>\n",
       "    </tr>\n",
       "    <tr>\n",
       "      <td>la Sagrada Família</td>\n",
       "      <td>257063</td>\n",
       "    </tr>\n",
       "    <tr>\n",
       "      <td>Sant Andreu</td>\n",
       "      <td>283114</td>\n",
       "    </tr>\n",
       "    <tr>\n",
       "      <td>la Nova Esquerra de l'Eixample</td>\n",
       "      <td>288931</td>\n",
       "    </tr>\n",
       "  </tbody>\n",
       "</table>\n",
       "<p>73 rows × 1 columns</p>\n",
       "</div>"
      ],
      "text/plain": [
       "                                Number\n",
       "Neighborhood.Name                     \n",
       "la Clota                          2694\n",
       "la Marina del Prat Vermell        5733\n",
       "Vallbona                          6715\n",
       "Can Peguera                      11296\n",
       "Baró de Viver                    12424\n",
       "...                                ...\n",
       "el Raval                        238168\n",
       "la Vila de Gràcia               252724\n",
       "la Sagrada Família              257063\n",
       "Sant Andreu                     283114\n",
       "la Nova Esquerra de l'Eixample  288931\n",
       "\n",
       "[73 rows x 1 columns]"
      ]
     },
     "execution_count": 18,
     "metadata": {},
     "output_type": "execute_result"
    }
   ],
   "source": [
    "## group by neighborhood. then check accidents and sort. see if the neighborhoods with most accidents are populated by mostly male\n",
    "population.groupby(\"Neighborhood.Name\")[\"Gender\",\"Number\"].sum().sort_values([\"Number\"])"
   ]
  },
  {
   "cell_type": "code",
   "execution_count": 6,
   "metadata": {},
   "outputs": [
    {
     "data": {
      "text/html": [
       "<div>\n",
       "<style scoped>\n",
       "    .dataframe tbody tr th:only-of-type {\n",
       "        vertical-align: middle;\n",
       "    }\n",
       "\n",
       "    .dataframe tbody tr th {\n",
       "        vertical-align: top;\n",
       "    }\n",
       "\n",
       "    .dataframe thead th {\n",
       "        text-align: right;\n",
       "    }\n",
       "</style>\n",
       "<table border=\"1\" class=\"dataframe\">\n",
       "  <thead>\n",
       "    <tr style=\"text-align: right;\">\n",
       "      <th></th>\n",
       "      <th>Year</th>\n",
       "      <th>District.Code</th>\n",
       "      <th>District.Name</th>\n",
       "      <th>Neighborhood.Code</th>\n",
       "      <th>Neighborhood.Name</th>\n",
       "      <th>Gender</th>\n",
       "      <th>Age</th>\n",
       "      <th>Number</th>\n",
       "    </tr>\n",
       "  </thead>\n",
       "  <tbody>\n",
       "    <tr>\n",
       "      <td>0</td>\n",
       "      <td>2017</td>\n",
       "      <td>1</td>\n",
       "      <td>Ciutat Vella</td>\n",
       "      <td>1</td>\n",
       "      <td>el Raval</td>\n",
       "      <td>Male</td>\n",
       "      <td>0-4</td>\n",
       "      <td>224</td>\n",
       "    </tr>\n",
       "    <tr>\n",
       "      <td>1</td>\n",
       "      <td>2017</td>\n",
       "      <td>1</td>\n",
       "      <td>Ciutat Vella</td>\n",
       "      <td>2</td>\n",
       "      <td>el Barri Gòtic</td>\n",
       "      <td>Male</td>\n",
       "      <td>0-4</td>\n",
       "      <td>50</td>\n",
       "    </tr>\n",
       "    <tr>\n",
       "      <td>2</td>\n",
       "      <td>2017</td>\n",
       "      <td>1</td>\n",
       "      <td>Ciutat Vella</td>\n",
       "      <td>3</td>\n",
       "      <td>la Barceloneta</td>\n",
       "      <td>Male</td>\n",
       "      <td>0-4</td>\n",
       "      <td>43</td>\n",
       "    </tr>\n",
       "    <tr>\n",
       "      <td>3</td>\n",
       "      <td>2017</td>\n",
       "      <td>1</td>\n",
       "      <td>Ciutat Vella</td>\n",
       "      <td>4</td>\n",
       "      <td>Sant Pere, Santa Caterina i la Ribera</td>\n",
       "      <td>Male</td>\n",
       "      <td>0-4</td>\n",
       "      <td>95</td>\n",
       "    </tr>\n",
       "    <tr>\n",
       "      <td>4</td>\n",
       "      <td>2017</td>\n",
       "      <td>2</td>\n",
       "      <td>Eixample</td>\n",
       "      <td>5</td>\n",
       "      <td>el Fort Pienc</td>\n",
       "      <td>Male</td>\n",
       "      <td>0-4</td>\n",
       "      <td>124</td>\n",
       "    </tr>\n",
       "  </tbody>\n",
       "</table>\n",
       "</div>"
      ],
      "text/plain": [
       "   Year  District.Code District.Name  Neighborhood.Code  \\\n",
       "0  2017              1  Ciutat Vella                  1   \n",
       "1  2017              1  Ciutat Vella                  2   \n",
       "2  2017              1  Ciutat Vella                  3   \n",
       "3  2017              1  Ciutat Vella                  4   \n",
       "4  2017              2      Eixample                  5   \n",
       "\n",
       "                       Neighborhood.Name Gender  Age  Number  \n",
       "0                               el Raval   Male  0-4     224  \n",
       "1                         el Barri Gòtic   Male  0-4      50  \n",
       "2                         la Barceloneta   Male  0-4      43  \n",
       "3  Sant Pere, Santa Caterina i la Ribera   Male  0-4      95  \n",
       "4                          el Fort Pienc   Male  0-4     124  "
      ]
     },
     "execution_count": 6,
     "metadata": {},
     "output_type": "execute_result"
    }
   ],
   "source": [
    "population.head()"
   ]
  },
  {
   "cell_type": "code",
   "execution_count": 7,
   "metadata": {},
   "outputs": [
    {
     "data": {
      "text/plain": [
       "Index(['Year', 'District.Code', 'District.Name', 'Neighborhood.Code',\n",
       "       'Neighborhood.Name', 'Gender', 'Age', 'Number'],\n",
       "      dtype='object')"
      ]
     },
     "execution_count": 7,
     "metadata": {},
     "output_type": "execute_result"
    }
   ],
   "source": [
    "population.columns"
   ]
  },
  {
   "cell_type": "code",
   "execution_count": 19,
   "metadata": {},
   "outputs": [
    {
     "data": {
      "text/plain": [
       "array(['0-4', '5-9', '10-14', '15-19', '20-24', '25-29', '30-34', '35-39',\n",
       "       '40-44', '45-49', '50-54', '55-59', '60-64', '65-69', '70-74',\n",
       "       '75-79', '80-84', '85-89', '90-94', '>=95'], dtype=object)"
      ]
     },
     "execution_count": 19,
     "metadata": {},
     "output_type": "execute_result"
    }
   ],
   "source": [
    "population[\"Age\"].unique()"
   ]
  },
  {
   "cell_type": "code",
   "execution_count": 21,
   "metadata": {},
   "outputs": [],
   "source": [
    "accidents_2019 = pd.read_csv('datasets/1.-Transportation/2019_accidents.csv')"
   ]
  },
  {
   "cell_type": "code",
   "execution_count": 22,
   "metadata": {},
   "outputs": [
    {
     "data": {
      "text/html": [
       "<div>\n",
       "<style scoped>\n",
       "    .dataframe tbody tr th:only-of-type {\n",
       "        vertical-align: middle;\n",
       "    }\n",
       "\n",
       "    .dataframe tbody tr th {\n",
       "        vertical-align: top;\n",
       "    }\n",
       "\n",
       "    .dataframe thead th {\n",
       "        text-align: right;\n",
       "    }\n",
       "</style>\n",
       "<table border=\"1\" class=\"dataframe\">\n",
       "  <thead>\n",
       "    <tr style=\"text-align: right;\">\n",
       "      <th></th>\n",
       "      <th>Numero_expedient</th>\n",
       "      <th>Codi_districte</th>\n",
       "      <th>Nom_districte</th>\n",
       "      <th>Codi_barri</th>\n",
       "      <th>Nom_barri</th>\n",
       "      <th>Codi_carrer</th>\n",
       "      <th>Nom_carrer</th>\n",
       "      <th>Num_postal</th>\n",
       "      <th>Descripcio_dia_setmana</th>\n",
       "      <th>Dia_setmana</th>\n",
       "      <th>...</th>\n",
       "      <th>Descripcio_tipus_vehicle</th>\n",
       "      <th>Descripcio_model</th>\n",
       "      <th>Descripcio_marca</th>\n",
       "      <th>Descripcio_color</th>\n",
       "      <th>Descripcio_carnet</th>\n",
       "      <th>Antiguitat_carnet</th>\n",
       "      <th>Coordenada_UTM_X</th>\n",
       "      <th>Coordenada_UTM_Y</th>\n",
       "      <th>Longitud</th>\n",
       "      <th>Latitud</th>\n",
       "    </tr>\n",
       "  </thead>\n",
       "  <tbody>\n",
       "    <tr>\n",
       "      <td>0</td>\n",
       "      <td>2019S005075</td>\n",
       "      <td>-1</td>\n",
       "      <td>Desconegut</td>\n",
       "      <td>-1</td>\n",
       "      <td>Desconegut</td>\n",
       "      <td>-1</td>\n",
       "      <td>Comte d'Urgell / Roma                         ...</td>\n",
       "      <td>NaN</td>\n",
       "      <td>Dijous</td>\n",
       "      <td>Dj</td>\n",
       "      <td>...</td>\n",
       "      <td>Bicicleta</td>\n",
       "      <td>Desconegut</td>\n",
       "      <td>Desconegut</td>\n",
       "      <td>Desconegut</td>\n",
       "      <td>Desconegut</td>\n",
       "      <td>Desconegut</td>\n",
       "      <td>429393.43</td>\n",
       "      <td>4582076.68</td>\n",
       "      <td>2.154311</td>\n",
       "      <td>41.385295</td>\n",
       "    </tr>\n",
       "    <tr>\n",
       "      <td>1</td>\n",
       "      <td>2019S005075</td>\n",
       "      <td>-1</td>\n",
       "      <td>Desconegut</td>\n",
       "      <td>-1</td>\n",
       "      <td>Desconegut</td>\n",
       "      <td>-1</td>\n",
       "      <td>NaN</td>\n",
       "      <td>NaN</td>\n",
       "      <td>Dijous</td>\n",
       "      <td>Dj</td>\n",
       "      <td>...</td>\n",
       "      <td>Desconegut</td>\n",
       "      <td>Desconegut</td>\n",
       "      <td>Desconegut</td>\n",
       "      <td>Desconegut</td>\n",
       "      <td>Desconegut</td>\n",
       "      <td>Desconegut</td>\n",
       "      <td>429393.43</td>\n",
       "      <td>4582076.68</td>\n",
       "      <td>2.154311</td>\n",
       "      <td>41.385295</td>\n",
       "    </tr>\n",
       "    <tr>\n",
       "      <td>2</td>\n",
       "      <td>2019S008513</td>\n",
       "      <td>-1</td>\n",
       "      <td>Desconegut</td>\n",
       "      <td>-1</td>\n",
       "      <td>Desconegut</td>\n",
       "      <td>-1</td>\n",
       "      <td>Número 50 Zona Franca / Número 3 Zona Franca  ...</td>\n",
       "      <td>NaN</td>\n",
       "      <td>Dilluns</td>\n",
       "      <td>Dl</td>\n",
       "      <td>...</td>\n",
       "      <td>Motocicleta</td>\n",
       "      <td>WW125EX2</td>\n",
       "      <td>HONDA</td>\n",
       "      <td>Blanc</td>\n",
       "      <td>B</td>\n",
       "      <td>35</td>\n",
       "      <td>426503.22</td>\n",
       "      <td>4577014.83</td>\n",
       "      <td>2.120362</td>\n",
       "      <td>41.339446</td>\n",
       "    </tr>\n",
       "    <tr>\n",
       "      <td>3</td>\n",
       "      <td>2019S001554</td>\n",
       "      <td>-1</td>\n",
       "      <td>Desconegut</td>\n",
       "      <td>-1</td>\n",
       "      <td>Desconegut</td>\n",
       "      <td>-1</td>\n",
       "      <td>A Zona Franca / Número 3 Zona Franca          ...</td>\n",
       "      <td>NaN</td>\n",
       "      <td>Dimarts</td>\n",
       "      <td>Dm</td>\n",
       "      <td>...</td>\n",
       "      <td>Turisme</td>\n",
       "      <td>307 SW PK</td>\n",
       "      <td>PEUGEOT</td>\n",
       "      <td>Gris</td>\n",
       "      <td>B</td>\n",
       "      <td>30</td>\n",
       "      <td>428020.43</td>\n",
       "      <td>4576283.26</td>\n",
       "      <td>2.138580</td>\n",
       "      <td>41.332994</td>\n",
       "    </tr>\n",
       "    <tr>\n",
       "      <td>4</td>\n",
       "      <td>2019S001554</td>\n",
       "      <td>-1</td>\n",
       "      <td>Desconegut</td>\n",
       "      <td>-1</td>\n",
       "      <td>Desconegut</td>\n",
       "      <td>-1</td>\n",
       "      <td>NaN</td>\n",
       "      <td>NaN</td>\n",
       "      <td>Dimarts</td>\n",
       "      <td>Dm</td>\n",
       "      <td>...</td>\n",
       "      <td>Turisme</td>\n",
       "      <td>C3</td>\n",
       "      <td>CITROEN</td>\n",
       "      <td>Negre</td>\n",
       "      <td>B</td>\n",
       "      <td>15</td>\n",
       "      <td>428020.43</td>\n",
       "      <td>4576283.26</td>\n",
       "      <td>2.138580</td>\n",
       "      <td>41.332994</td>\n",
       "    </tr>\n",
       "  </tbody>\n",
       "</table>\n",
       "<p>5 rows × 28 columns</p>\n",
       "</div>"
      ],
      "text/plain": [
       "  Numero_expedient  Codi_districte Nom_districte  Codi_barri   Nom_barri  \\\n",
       "0  2019S005075                  -1    Desconegut          -1  Desconegut   \n",
       "1  2019S005075                  -1    Desconegut          -1  Desconegut   \n",
       "2  2019S008513                  -1    Desconegut          -1  Desconegut   \n",
       "3  2019S001554                  -1    Desconegut          -1  Desconegut   \n",
       "4  2019S001554                  -1    Desconegut          -1  Desconegut   \n",
       "\n",
       "   Codi_carrer                                         Nom_carrer Num_postal  \\\n",
       "0           -1  Comte d'Urgell / Roma                         ...        NaN   \n",
       "1           -1                                                NaN        NaN   \n",
       "2           -1  Número 50 Zona Franca / Número 3 Zona Franca  ...        NaN   \n",
       "3           -1  A Zona Franca / Número 3 Zona Franca          ...        NaN   \n",
       "4           -1                                                NaN        NaN   \n",
       "\n",
       "  Descripcio_dia_setmana Dia_setmana  ... Descripcio_tipus_vehicle  \\\n",
       "0                 Dijous          Dj  ...                Bicicleta   \n",
       "1                 Dijous          Dj  ...               Desconegut   \n",
       "2                Dilluns          Dl  ...              Motocicleta   \n",
       "3                Dimarts          Dm  ...                  Turisme   \n",
       "4                Dimarts          Dm  ...                  Turisme   \n",
       "\n",
       "   Descripcio_model  Descripcio_marca Descripcio_color  Descripcio_carnet  \\\n",
       "0        Desconegut        Desconegut       Desconegut         Desconegut   \n",
       "1        Desconegut        Desconegut       Desconegut         Desconegut   \n",
       "2          WW125EX2             HONDA            Blanc                  B   \n",
       "3         307 SW PK           PEUGEOT             Gris                  B   \n",
       "4                C3           CITROEN            Negre                  B   \n",
       "\n",
       "   Antiguitat_carnet Coordenada_UTM_X Coordenada_UTM_Y  Longitud    Latitud  \n",
       "0         Desconegut        429393.43       4582076.68  2.154311  41.385295  \n",
       "1         Desconegut        429393.43       4582076.68  2.154311  41.385295  \n",
       "2                 35        426503.22       4577014.83  2.120362  41.339446  \n",
       "3                 30        428020.43       4576283.26  2.138580  41.332994  \n",
       "4                 15        428020.43       4576283.26  2.138580  41.332994  \n",
       "\n",
       "[5 rows x 28 columns]"
      ]
     },
     "execution_count": 22,
     "metadata": {},
     "output_type": "execute_result"
    }
   ],
   "source": [
    "accidents_2019.head()"
   ]
  },
  {
   "cell_type": "code",
   "execution_count": null,
   "metadata": {},
   "outputs": [],
   "source": []
  },
  {
   "cell_type": "code",
   "execution_count": 24,
   "metadata": {},
   "outputs": [
    {
     "data": {
      "text/plain": [
       "Turisme                                7420\n",
       "Motocicleta                            6064\n",
       "Furgoneta                              1228\n",
       "Ciclomotor                              951\n",
       "Bicicleta                               786\n",
       "Taxi                                    643\n",
       "Veh. mobilitat personal amb motor       486\n",
       "Autobús                                 453\n",
       "Camió rígid <= 3,5 tones                238\n",
       "Camió rígid > 3,5 tones                 180\n",
       "Tot terreny                             150\n",
       "Autobús articulat                       130\n",
       "Tractor camió                            84\n",
       "Desconegut                               58\n",
       "Veh. mobilitat personal sense motor      49\n",
       "Altres vehicles amb motor                33\n",
       "Autocar                                  22\n",
       "Maquinària d'obres i serveis             21\n",
       "Tren o tramvia                            9\n",
       "Altres vehicles sense motor               7\n",
       "Pick-up                                   5\n",
       "Quadricicle < 75 cc                       4\n",
       "Carro                                     2\n",
       "Quadricicle > 75 cc                       1\n",
       "Autocaravana                              1\n",
       "Name: Descripcio_tipus_vehicle, dtype: int64"
      ]
     },
     "execution_count": 24,
     "metadata": {},
     "output_type": "execute_result"
    }
   ],
   "source": [
    "accidents_2019[\"Descripcio_tipus_vehicle\"].value_counts()"
   ]
  },
  {
   "cell_type": "code",
   "execution_count": 25,
   "metadata": {},
   "outputs": [
    {
     "data": {
      "text/plain": [
       "Divendres    3164\n",
       "Dimecres     3160\n",
       "Dijous       3122\n",
       "Dimarts      3095\n",
       "Dilluns      2846\n",
       "Dissabte     2070\n",
       "Diumenge     1580\n",
       "Name: Descripcio_dia_setmana, dtype: int64"
      ]
     },
     "execution_count": 25,
     "metadata": {},
     "output_type": "execute_result"
    }
   ],
   "source": [
    "accidents_2019[\"Descripcio_dia_setmana\"].value_counts()"
   ]
  },
  {
   "cell_type": "code",
   "execution_count": 27,
   "metadata": {},
   "outputs": [
    {
     "data": {
      "text/plain": [
       "Index(['Numero_expedient', 'Codi_districte', 'Nom_districte', 'Codi_barri',\n",
       "       'Nom_barri', 'Codi_carrer', 'Nom_carrer', 'Num_postal',\n",
       "       'Descripcio_dia_setmana', 'Dia_setmana', 'Descripcio_tipus_dia',\n",
       "       'NK_Any', 'Mes_any', 'Nom_mes', 'Dia_mes', 'Hora_dia',\n",
       "       'Descripcio_torn', 'Descripcio_causa_vianant',\n",
       "       'Descripcio_tipus_vehicle', 'Descripcio_model', 'Descripcio_marca',\n",
       "       'Descripcio_color', 'Descripcio_carnet', 'Antiguitat_carnet',\n",
       "       'Coordenada_UTM_X', 'Coordenada_UTM_Y', 'Longitud', 'Latitud'],\n",
       "      dtype='object')"
      ]
     },
     "execution_count": 27,
     "metadata": {},
     "output_type": "execute_result"
    }
   ],
   "source": [
    "accidents_2019.columns"
   ]
  },
  {
   "cell_type": "code",
   "execution_count": 29,
   "metadata": {},
   "outputs": [
    {
     "data": {
      "text/plain": [
       "Tarda    9539\n",
       "Matí     7277\n",
       "Nit      2065\n",
       "Name: Descripcio_torn, dtype: int64"
      ]
     },
     "execution_count": 29,
     "metadata": {},
     "output_type": "execute_result"
    }
   ],
   "source": [
    "accidents_2019[\"Descripcio_torn\"].value_counts()"
   ]
  },
  {
   "cell_type": "code",
   "execution_count": 33,
   "metadata": {},
   "outputs": [
    {
     "data": {
      "text/plain": [
       "19037"
      ]
     },
     "execution_count": 33,
     "metadata": {},
     "output_type": "execute_result"
    }
   ],
   "source": [
    "accidents_2019[\"Nom_barri\"].value_counts().sum()"
   ]
  },
  {
   "cell_type": "code",
   "execution_count": 32,
   "metadata": {},
   "outputs": [
    {
     "data": {
      "text/plain": [
       "19025"
      ]
     },
     "execution_count": 32,
     "metadata": {},
     "output_type": "execute_result"
    }
   ],
   "source": [
    "accidents_2019[\"Numero_expedient\"].count()"
   ]
  }
 ],
 "metadata": {
  "kernelspec": {
   "display_name": "Python 3",
   "language": "python",
   "name": "python3"
  },
  "language_info": {
   "codemirror_mode": {
    "name": "ipython",
    "version": 3
   },
   "file_extension": ".py",
   "mimetype": "text/x-python",
   "name": "python",
   "nbconvert_exporter": "python",
   "pygments_lexer": "ipython3",
   "version": "3.7.4"
  },
  "toc": {
   "base_numbering": 1,
   "nav_menu": {},
   "number_sections": true,
   "sideBar": true,
   "skip_h1_title": false,
   "title_cell": "Table of Contents",
   "title_sidebar": "Contents",
   "toc_cell": false,
   "toc_position": {},
   "toc_section_display": true,
   "toc_window_display": false
  },
  "varInspector": {
   "cols": {
    "lenName": 16,
    "lenType": 16,
    "lenVar": 40
   },
   "kernels_config": {
    "python": {
     "delete_cmd_postfix": "",
     "delete_cmd_prefix": "del ",
     "library": "var_list.py",
     "varRefreshCmd": "print(var_dic_list())"
    },
    "r": {
     "delete_cmd_postfix": ") ",
     "delete_cmd_prefix": "rm(",
     "library": "var_list.r",
     "varRefreshCmd": "cat(var_dic_list()) "
    }
   },
   "types_to_exclude": [
    "module",
    "function",
    "builtin_function_or_method",
    "instance",
    "_Feature"
   ],
   "window_display": false
  }
 },
 "nbformat": 4,
 "nbformat_minor": 2
}
