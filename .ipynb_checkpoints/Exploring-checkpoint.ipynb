{
 "cells": [
  {
   "cell_type": "code",
   "execution_count": 4,
   "metadata": {},
   "outputs": [],
   "source": [
    "import numpy as np\n",
    "import pandas as pd"
   ]
  },
  {
   "cell_type": "code",
   "execution_count": 7,
   "metadata": {},
   "outputs": [],
   "source": [
    "accidents = pd.read_csv('datasets/1.-Transportation/accidents-2017.csv')"
   ]
  },
  {
   "cell_type": "code",
   "execution_count": 8,
   "metadata": {},
   "outputs": [],
   "source": [
    "population = pd.read_csv('datasets/3.-Population/population.csv')"
   ]
  },
  {
   "cell_type": "code",
   "execution_count": 9,
   "metadata": {},
   "outputs": [],
   "source": [
    "bus = pd.read_csv('datasets/1.-Transportation/bus-stops.csv')"
   ]
  },
  {
   "cell_type": "code",
   "execution_count": 10,
   "metadata": {},
   "outputs": [],
   "source": [
    "transp = pd.read_csv('datasets/1.-Transportation/public-transport.csv')"
   ]
  },
  {
   "cell_type": "code",
   "execution_count": 11,
   "metadata": {},
   "outputs": [
    {
     "name": "stdout",
     "output_type": "stream",
     "text": [
      "<class 'pandas.core.frame.DataFrame'>\n",
      "RangeIndex: 10339 entries, 0 to 10338\n",
      "Data columns (total 15 columns):\n",
      "Id                   10339 non-null object\n",
      "District Name        10339 non-null object\n",
      "Neighborhood Name    10339 non-null object\n",
      "Street               10339 non-null object\n",
      "Weekday              10339 non-null object\n",
      "Month                10339 non-null object\n",
      "Day                  10339 non-null int64\n",
      "Hour                 10339 non-null int64\n",
      "Part of the day      10339 non-null object\n",
      "Mild injuries        10339 non-null int64\n",
      "Serious injuries     10339 non-null int64\n",
      "Victims              10339 non-null int64\n",
      "Vehicles involved    10339 non-null int64\n",
      "Longitude            10339 non-null float64\n",
      "Latitude             10339 non-null float64\n",
      "dtypes: float64(2), int64(6), object(7)\n",
      "memory usage: 1.2+ MB\n"
     ]
    }
   ],
   "source": [
    "accidents.info()"
   ]
  },
  {
   "cell_type": "code",
   "execution_count": 12,
   "metadata": {},
   "outputs": [
    {
     "name": "stdout",
     "output_type": "stream",
     "text": [
      "<class 'pandas.core.frame.DataFrame'>\n",
      "RangeIndex: 3162 entries, 0 to 3161\n",
      "Data columns (total 7 columns):\n",
      "Code                 3162 non-null object\n",
      "Transport            3162 non-null object\n",
      "Longitude            3162 non-null float64\n",
      "Latitude             3162 non-null float64\n",
      "Bus.Stop             3162 non-null object\n",
      "District.Name        3146 non-null object\n",
      "Neighborhood.Name    3146 non-null object\n",
      "dtypes: float64(2), object(5)\n",
      "memory usage: 173.0+ KB\n"
     ]
    }
   ],
   "source": [
    "bus.info()"
   ]
  },
  {
   "cell_type": "code",
   "execution_count": 13,
   "metadata": {},
   "outputs": [
    {
     "name": "stdout",
     "output_type": "stream",
     "text": [
      "<class 'pandas.core.frame.DataFrame'>\n",
      "RangeIndex: 651 entries, 0 to 650\n",
      "Data columns (total 7 columns):\n",
      "Code                 651 non-null object\n",
      "Transport            651 non-null object\n",
      "Longitude            651 non-null float64\n",
      "Latitude             651 non-null float64\n",
      "Station              651 non-null object\n",
      "District.Name        487 non-null object\n",
      "Neighborhood.Name    487 non-null object\n",
      "dtypes: float64(2), object(5)\n",
      "memory usage: 35.7+ KB\n"
     ]
    }
   ],
   "source": [
    "transp.info()"
   ]
  },
  {
   "cell_type": "code",
   "execution_count": 14,
   "metadata": {},
   "outputs": [
    {
     "name": "stdout",
     "output_type": "stream",
     "text": [
      "<class 'pandas.core.frame.DataFrame'>\n",
      "RangeIndex: 70080 entries, 0 to 70079\n",
      "Data columns (total 8 columns):\n",
      "Year                 70080 non-null int64\n",
      "District.Code        70080 non-null int64\n",
      "District.Name        70080 non-null object\n",
      "Neighborhood.Code    70080 non-null int64\n",
      "Neighborhood.Name    70080 non-null object\n",
      "Gender               70080 non-null object\n",
      "Age                  70080 non-null object\n",
      "Number               70080 non-null int64\n",
      "dtypes: int64(4), object(4)\n",
      "memory usage: 4.3+ MB\n"
     ]
    }
   ],
   "source": [
    "population.info()"
   ]
  },
  {
   "cell_type": "code",
   "execution_count": 15,
   "metadata": {},
   "outputs": [
    {
     "data": {
      "text/plain": [
       "Index(['Id', 'District Name', 'Neighborhood Name', 'Street', 'Weekday',\n",
       "       'Month', 'Day', 'Hour', 'Part of the day', 'Mild injuries',\n",
       "       'Serious injuries', 'Victims', 'Vehicles involved', 'Longitude',\n",
       "       'Latitude'],\n",
       "      dtype='object')"
      ]
     },
     "execution_count": 15,
     "metadata": {},
     "output_type": "execute_result"
    }
   ],
   "source": [
    "accidents.columns"
   ]
  },
  {
   "cell_type": "code",
   "execution_count": null,
   "metadata": {},
   "outputs": [],
   "source": []
  }
 ],
 "metadata": {
  "kernelspec": {
   "display_name": "Python 3",
   "language": "python",
   "name": "python3"
  },
  "language_info": {
   "codemirror_mode": {
    "name": "ipython",
    "version": 3
   },
   "file_extension": ".py",
   "mimetype": "text/x-python",
   "name": "python",
   "nbconvert_exporter": "python",
   "pygments_lexer": "ipython3",
   "version": "3.7.4"
  },
  "toc": {
   "base_numbering": 1,
   "nav_menu": {},
   "number_sections": true,
   "sideBar": true,
   "skip_h1_title": false,
   "title_cell": "Table of Contents",
   "title_sidebar": "Contents",
   "toc_cell": false,
   "toc_position": {},
   "toc_section_display": true,
   "toc_window_display": false
  },
  "varInspector": {
   "cols": {
    "lenName": 16,
    "lenType": 16,
    "lenVar": 40
   },
   "kernels_config": {
    "python": {
     "delete_cmd_postfix": "",
     "delete_cmd_prefix": "del ",
     "library": "var_list.py",
     "varRefreshCmd": "print(var_dic_list())"
    },
    "r": {
     "delete_cmd_postfix": ") ",
     "delete_cmd_prefix": "rm(",
     "library": "var_list.r",
     "varRefreshCmd": "cat(var_dic_list()) "
    }
   },
   "types_to_exclude": [
    "module",
    "function",
    "builtin_function_or_method",
    "instance",
    "_Feature"
   ],
   "window_display": false
  }
 },
 "nbformat": 4,
 "nbformat_minor": 2
}
